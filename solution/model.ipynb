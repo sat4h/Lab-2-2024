{
  "cells": [
    {
      "cell_type": "code",
      "execution_count": 2,
      "metadata": {
        "id": "-ibtyT-d0yDV"
      },
      "outputs": [],
      "source": [
        "# Импорт необходимых библиотек\n",
        "import numpy as np\n",
        "import pandas as pd\n",
        "import tensorflow as tf\n",
        "from sklearn.metrics import classification_report, confusion_matrix\n",
        "import os\n"
      ]
    },
    {
      "cell_type": "code",
      "execution_count": 3,
      "metadata": {
        "id": "j4NH6X4M1ajm"
      },
      "outputs": [],
      "source": [
        "# Путь к обученной модели и данным\n",
        "model_path = '/content/trained_model.h5'  # Путь к обученной модели\n",
        "data_dir = '/content/'                  # Путь к данным"
      ]
    },
    {
      "cell_type": "code",
      "execution_count": 5,
      "metadata": {
        "colab": {
          "base_uri": "https://localhost:8080/"
        },
        "id": "67Dj0Qva1glJ",
        "outputId": "cb0a39f1-92b9-4880-bf9a-aeb1c1f1f4f2"
      },
      "outputs": [
        {
          "output_type": "stream",
          "name": "stderr",
          "text": [
            "WARNING:absl:Compiled the loaded model, but the compiled metrics have yet to be built. `model.compile_metrics` will be empty until you train or evaluate the model.\n"
          ]
        },
        {
          "output_type": "stream",
          "name": "stdout",
          "text": [
            "\u001b[1m1/1\u001b[0m \u001b[32m━━━━━━━━━━━━━━━━━━━━\u001b[0m\u001b[37m\u001b[0m \u001b[1m0s\u001b[0m 296ms/step\n",
            "Classification Report:\n",
            "              precision    recall  f1-score   support\n",
            "\n",
            "      Setosa       1.00      0.20      0.33        10\n",
            "  Versicolor       0.00      0.00      0.00         9\n",
            "   Virginica       0.39      1.00      0.56        11\n",
            "\n",
            "    accuracy                           0.43        30\n",
            "   macro avg       0.46      0.40      0.30        30\n",
            "weighted avg       0.48      0.43      0.32        30\n",
            "\n",
            "\n",
            "Confusion Matrix:\n",
            "[[ 2  0  8]\n",
            " [ 0  0  9]\n",
            " [ 0  0 11]]\n"
          ]
        },
        {
          "output_type": "stream",
          "name": "stderr",
          "text": [
            "/usr/local/lib/python3.10/dist-packages/sklearn/metrics/_classification.py:1531: UndefinedMetricWarning: Precision is ill-defined and being set to 0.0 in labels with no predicted samples. Use `zero_division` parameter to control this behavior.\n",
            "  _warn_prf(average, modifier, f\"{metric.capitalize()} is\", len(result))\n",
            "/usr/local/lib/python3.10/dist-packages/sklearn/metrics/_classification.py:1531: UndefinedMetricWarning: Precision is ill-defined and being set to 0.0 in labels with no predicted samples. Use `zero_division` parameter to control this behavior.\n",
            "  _warn_prf(average, modifier, f\"{metric.capitalize()} is\", len(result))\n",
            "/usr/local/lib/python3.10/dist-packages/sklearn/metrics/_classification.py:1531: UndefinedMetricWarning: Precision is ill-defined and being set to 0.0 in labels with no predicted samples. Use `zero_division` parameter to control this behavior.\n",
            "  _warn_prf(average, modifier, f\"{metric.capitalize()} is\", len(result))\n"
          ]
        }
      ],
      "source": [
        "# Загрузка обученной модели\n",
        "model = tf.keras.models.load_model(model_path)\n",
        "\n",
        "# Загрузка тестовых данных\n",
        "X_test = pd.read_csv(os.path.join(data_dir, 'X_test.csv')).values\n",
        "y_test = pd.read_csv(os.path.join(data_dir, 'y_test.csv')).values.ravel()\n",
        "\n",
        "# Выполнение инференса на тестовых данных\n",
        "y_pred_proba = model.predict(X_test)  # Получаем вероятности для классов\n",
        "y_pred = np.argmax(y_pred_proba, axis=1)  # Берем индекс класса с максимальной вероятностью\n",
        "\n",
        "# Оценка модели: вывод метрик классификации\n",
        "print(\"Classification Report:\")\n",
        "print(classification_report(y_test, y_pred, target_names=['Setosa', 'Versicolor', 'Virginica']))\n",
        "\n",
        "print(\"\\nConfusion Matrix:\")\n",
        "print(confusion_matrix(y_test, y_pred))"
      ]
    },
    {
      "cell_type": "code",
      "execution_count": null,
      "metadata": {
        "id": "c_JYQVAG1mMZ"
      },
      "outputs": [],
      "source": []
    }
  ],
  "metadata": {
    "colab": {
      "provenance": []
    },
    "kernelspec": {
      "display_name": "Python 3 (ipykernel)",
      "language": "python",
      "name": "python3"
    },
    "language_info": {
      "codemirror_mode": {
        "name": "ipython",
        "version": 3
      },
      "file_extension": ".py",
      "mimetype": "text/x-python",
      "name": "python",
      "nbconvert_exporter": "python",
      "pygments_lexer": "ipython3",
      "version": "3.13.0"
    }
  },
  "nbformat": 4,
  "nbformat_minor": 0
}